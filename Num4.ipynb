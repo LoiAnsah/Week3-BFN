{
 "cells": [
  {
   "cell_type": "code",
   "execution_count": 1,
   "id": "ac80e001-b55d-4d67-b0cb-bc71cf2c68d2",
   "metadata": {},
   "outputs": [
    {
     "name": "stdout",
     "output_type": "stream",
     "text": [
      "Requirement already satisfied: requests in c:\\users\\loisa\\onedrive\\documents\\dir program\\week 3 bfn\\myenv\\lib\\site-packages (2.32.3)\n",
      "Requirement already satisfied: charset-normalizer<4,>=2 in c:\\users\\loisa\\onedrive\\documents\\dir program\\week 3 bfn\\myenv\\lib\\site-packages (from requests) (3.3.2)\n",
      "Requirement already satisfied: idna<4,>=2.5 in c:\\users\\loisa\\onedrive\\documents\\dir program\\week 3 bfn\\myenv\\lib\\site-packages (from requests) (3.7)\n",
      "Requirement already satisfied: urllib3<3,>=1.21.1 in c:\\users\\loisa\\onedrive\\documents\\dir program\\week 3 bfn\\myenv\\lib\\site-packages (from requests) (2.2.2)\n",
      "Requirement already satisfied: certifi>=2017.4.17 in c:\\users\\loisa\\onedrive\\documents\\dir program\\week 3 bfn\\myenv\\lib\\site-packages (from requests) (2024.7.4)\n"
     ]
    }
   ],
   "source": [
    "!pip install requests"
   ]
  },
  {
   "cell_type": "code",
   "execution_count": null,
   "id": "821dfd57-7251-4d77-b14d-784aeaefefef",
   "metadata": {},
   "outputs": [],
   "source": [
    "import tensorflow as tf\n",
    "import tensorflow_datasets as tfds\n",
    "import numpy as np\n",
    "import jax\n",
    "import jax.numpy as jnp\n",
    "import optax\n",
    "from flax import linen as nn\n",
    "from flax.training import train_state\n",
    "from typing import Any, Dict"
   ]
  },
  {
   "cell_type": "code",
   "execution_count": null,
   "id": "999ad69f-4d5e-416d-91c7-64e74a112dc8",
   "metadata": {},
   "outputs": [],
   "source": [
    "# Load and preprocess data\n",
    "def normalize_img(data):\n",
    "    \"\"\"Normalize images: `uint8` -> `float32`.\"\"\"\n",
    "    data['image'] = tf.cast(data['image'], tf.float32) / 255.0\n",
    "    return data\n",
    "\n",
    "# Load CIFAR-10 dataset\n",
    "ds_builder = tfds.builder('cifar10')\n",
    "ds_builder.download_and_prepare()\n",
    "train_ds = ds_builder.as_dataset(split='train', shuffle_files=True)\n",
    "test_ds = ds_builder.as_dataset(split='test', shuffle_files=False)\n",
    "\n",
    "# Apply normalization and batching\n",
    "batch_size = 32\n",
    "train_ds = train_ds.map(normalize_img, num_parallel_calls=tf.data.AUTOTUNE)\n",
    "test_ds = test_ds.map(normalize_img, num_parallel_calls=tf.data.AUTOTUNE)\n",
    "train_ds = train_ds.batch(batch_size)\n",
    "test_ds = test_ds.batch(batch_size)\n",
    "\n",
    "# Convert TensorFlow dataset to NumPy arrays for JAX\n",
    "def tfds_to_numpy(dataset):\n",
    "    \"\"\"Convert a TensorFlow dataset to NumPy format.\"\"\"\n",
    "    return [{'image': np.array(batch['image']), 'label': np.array(batch['label'])} for batch in dataset]\n",
    "\n",
    "train_ds = tfds_to_numpy(train_ds)\n",
    "test_ds = tfds_to_numpy(test_ds)"
   ]
  },
  {
   "cell_type": "code",
   "execution_count": null,
   "id": "5c7e7f84-3859-4e6a-8fa7-d467ec9a0c63",
   "metadata": {},
   "outputs": [],
   "source": [
    "# Define the CNN model\n",
    "class CNN(nn.Module):\n",
    "    @nn.compact\n",
    "    def __call__(self, x, is_training: bool):\n",
    "        x = nn.Conv(features=32, kernel_size=(3, 3))(x)\n",
    "        x = nn.relu(x)\n",
    "        x = nn.max_pool(x, (2, 2))\n",
    "        x = nn.Conv(features=64, kernel_size=(3, 3))(x)\n",
    "        x = nn.relu(x)\n",
    "        x = nn.max_pool(x, (2, 2))\n",
    "        x = nn.Conv(features=128, kernel_size=(3, 3))(x)\n",
    "        x = nn.relu(x)\n",
    "        x = x.reshape((x.shape[0], -1))  # Flatten\n",
    "        x = nn.Dense(features=256)(x)\n",
    "        x = nn.relu(x)\n",
    "        x = nn.Dense(features=10)(x)  # 10 classes for CIFAR-10\n",
    "        return x"
   ]
  },
  {
   "cell_type": "code",
   "execution_count": null,
   "id": "b6e9a5dc-11e6-4c66-a96d-f3d6b492981a",
   "metadata": {},
   "outputs": [],
   "source": [
    "# Define the loss function\n",
    "def cross_entropy_loss(logits, labels):\n",
    "    one_hot_labels = jax.nn.one_hot(labels, num_classes=10)\n",
    "    return optax.softmax_cross_entropy(logits=logits, labels=one_hot_labels).mean()\n",
    "\n",
    "# Define the optimizer\n",
    "optimizer = optax.adam(learning_rate=0.001)\n",
    "\n",
    "# Define the train state including the model parameters and optimizer\n",
    "class TrainState(train_state.TrainState):\n",
    "    pass"
   ]
  },
  {
   "cell_type": "code",
   "execution_count": null,
   "id": "d20c8c4b-2f9d-44a6-9df1-a6c9e22873ca",
   "metadata": {},
   "outputs": [],
   "source": [
    "# Define the training step function\n",
    "@jax.jit\n",
    "def train_step(state, batch):\n",
    "    def loss_fn(params):\n",
    "        logits = state.apply_fn({'params': params}, batch['image'], is_training=True)\n",
    "        loss = cross_entropy_loss(logits, batch['label'])\n",
    "        return loss, logits\n",
    "    grad_fn = jax.value_and_grad(loss_fn, has_aux=True)\n",
    "    (loss, logits), grads = grad_fn(state.params)\n",
    "    state = state.apply_gradients(grads=grads)\n",
    "    return state, loss"
   ]
  },
  {
   "cell_type": "code",
   "execution_count": null,
   "id": "89005729-ddd3-4b05-ad7b-cfe84a7f5108",
   "metadata": {},
   "outputs": [],
   "source": [
    "# Define the evaluation function\n",
    "@jax.jit\n",
    "def evaluate(state, batch):\n",
    "    logits = state.apply_fn({'params': state.params}, batch['image'], is_training=False)\n",
    "    loss = cross_entropy_loss(logits, batch['label'])\n",
    "    accuracy = jnp.mean(jnp.argmax(logits, -1) == batch['label'])\n",
    "    return loss, accuracy\n",
    "\n",
    "def evaluate_model(state, test_dataset):\n",
    "    total_loss = 0\n",
    "    total_accuracy = 0\n",
    "    num_batches = 0\n",
    "\n",
    "    for batch in test_dataset:\n",
    "        loss, accuracy = evaluate(state, batch)\n",
    "        total_loss += loss\n",
    "        total_accuracy += accuracy\n",
    "        num_batches += 1\n",
    "\n",
    "    avg_loss = total_loss / num_batches\n",
    "    avg_accuracy = total_accuracy / num_batches\n",
    "    return avg_loss, avg_accuracy\n"
   ]
  },
  {
   "cell_type": "code",
   "execution_count": null,
   "id": "b1bfc4a1-633d-4dd6-92c3-c89752dc6cc1",
   "metadata": {},
   "outputs": [],
   "source": [
    "# Initialize the model and state\n",
    "model = CNN()\n",
    "rng = jax.random.PRNGKey(0)\n",
    "init_batch = jnp.ones([1, 32, 32, 3])  # Example input shape\n",
    "variables = model.init(rng, init_batch, is_training=True)\n",
    "params = variables['params']\n",
    "\n",
    "state = TrainState.create(\n",
    "    apply_fn=model.apply,\n",
    "    params=params,\n",
    "    tx=optimizer\n",
    ")\n"
   ]
  },
  {
   "cell_type": "code",
   "execution_count": null,
   "id": "d5258580-7fb9-4b65-b225-5c9b057699d5",
   "metadata": {},
   "outputs": [],
   "source": [
    "# Training loop\n",
    "num_epochs = 10  # Number of epochs to train\n",
    "for epoch in range(num_epochs):\n",
    "    for batch in train_ds:\n",
    "        state, loss = train_step(state, batch)\n",
    "    \n",
    "    print(f\"Epoch {epoch + 1}, Loss: {loss}\")"
   ]
  },
  {
   "cell_type": "code",
   "execution_count": null,
   "id": "1015aeea-f405-4c70-8e1c-b342fd9f955e",
   "metadata": {},
   "outputs": [],
   "source": [
    "# Evaluate the model\n",
    "avg_loss, avg_accuracy = evaluate_model(state, test_ds)\n",
    "\n",
    "print(f\"Test Loss: {avg_loss}\")\n",
    "print(f\"Test Accuracy: {avg_accuracy}\")"
   ]
  },
  {
   "cell_type": "code",
   "execution_count": null,
   "id": "8886a12c-24a2-40fa-a7ce-f5217dc53a81",
   "metadata": {},
   "outputs": [],
   "source": []
  },
  {
   "cell_type": "code",
   "execution_count": null,
   "id": "da177688-739c-4576-9580-88bf9fd84dea",
   "metadata": {},
   "outputs": [],
   "source": []
  }
 ],
 "metadata": {
  "kernelspec": {
   "display_name": "Python 3 (ipykernel)",
   "language": "python",
   "name": "python3"
  },
  "language_info": {
   "codemirror_mode": {
    "name": "ipython",
    "version": 3
   },
   "file_extension": ".py",
   "mimetype": "text/x-python",
   "name": "python",
   "nbconvert_exporter": "python",
   "pygments_lexer": "ipython3",
   "version": "3.12.0"
  }
 },
 "nbformat": 4,
 "nbformat_minor": 5
}
