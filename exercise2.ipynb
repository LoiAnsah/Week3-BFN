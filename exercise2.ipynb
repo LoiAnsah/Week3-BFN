{
 "cells": [
  {
   "cell_type": "code",
   "execution_count": 16,
   "id": "bc1000e7-e2f3-44ba-94d2-011a664b576d",
   "metadata": {},
   "outputs": [],
   "source": [
    "import jax\n",
    "import jax.numpy as jnp\n",
    "import optax\n",
    "import tensorflow_datasets as tfds\n",
    "from flax import linen as nn\n",
    "from flax.training import train_state\n",
    "import tensorflow as tf\n"
   ]
  },
  {
   "cell_type": "code",
   "execution_count": 20,
   "id": "35546973-ecd8-43b0-8f90-e91a28dd2a73",
   "metadata": {},
   "outputs": [],
   "source": [
    "#load data\n",
    "ds_builder = tfds.builder('cifar10')\n",
    "ds_builder.download_and_prepare()\n",
    "train_ds = ds_builder.as_dataset(split='train', shuffle_files=True)\n",
    "test_ds = ds_builder.as_dataset(split='test', shuffle_files=False)\n",
    "\n",
    "#normalization function\n",
    "train_ds, test_ds = train_ds/255.0, test_ds/255.0\n",
    "def normalize_img(data):\n",
    "    \"\"\"Normalize images: `uint8` -> `float32`.\"\"\"\n",
    "    data['image'] = tf.cast(data['image'], tf.float32) / 255.0\n",
    "    return data\n",
    "\n",
    "#normalizing data\n",
    "train_ds = train_ds.map(normalize_img, num_parallel_calls=tf.data.AUTOTUNE)\n",
    "test_ds = test_ds.map(normalize_img, num_parallel_calls=tf.data.AUTOTUNE)\n"
   ]
  },
  {
   "cell_type": "code",
   "execution_count": 19,
   "id": "2b6a40b1-3234-45fb-9e1c-06c68b08cb4e",
   "metadata": {},
   "outputs": [],
   "source": [
    "#build a model\n",
    "\n",
    "# model\n",
    "class CNN(nn.Module):\n",
    "\n",
    "    @nn.compact\n",
    "    def __call__(self, x, is_training):\n",
    "        x = nn.Conv(features=32, kernel_size=(3, 3))(x)\n",
    "        x = nn.BatchNorm(use_running_average=not is_training, momentum=0.1)(x)\n",
    "        x = nn.relu(x)\n",
    "        x = nn.max_pool(x, window_shape=(2, 2), strides=(2, 2))\n",
    "        x = nn.Conv(features=64, kernel_size=(3, 3))(x)\n",
    "        x = nn.BatchNorm(use_running_average=not is_training, momentum=0.1)(x)\n",
    "        x = nn.relu(x)\n",
    "        x = nn.max_pool(x, window_shape=(2, 2), strides=(2, 2))\n",
    "        x = x.reshape((x.shape[0], -1))  # flatten\n",
    "        x = nn.Dense(features=256)(x)\n",
    "        x = nn.relu(x)\n",
    "        x = nn.Dense(features=10)(x)\n",
    "        x = nn.log_softmax(x)\n",
    "        \n",
    "        return x"
   ]
  },
  {
   "cell_type": "code",
   "execution_count": null,
   "id": "240e1734-78da-4ead-a793-04d23f3820be",
   "metadata": {},
   "outputs": [],
   "source": []
  }
 ],
 "metadata": {
  "kernelspec": {
   "display_name": "Python 3 (ipykernel)",
   "language": "python",
   "name": "python3"
  },
  "language_info": {
   "codemirror_mode": {
    "name": "ipython",
    "version": 3
   },
   "file_extension": ".py",
   "mimetype": "text/x-python",
   "name": "python",
   "nbconvert_exporter": "python",
   "pygments_lexer": "ipython3",
   "version": "3.12.0"
  }
 },
 "nbformat": 4,
 "nbformat_minor": 5
}
