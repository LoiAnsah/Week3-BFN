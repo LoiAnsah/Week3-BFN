{
 "cells": [
  {
   "cell_type": "code",
   "execution_count": null,
   "id": "bc1000e7-e2f3-44ba-94d2-011a664b576d",
   "metadata": {},
   "outputs": [],
   "source": [
    "import jax\n",
    "import jax.numpy as jnp\n",
    "import optax\n",
    "import tensorflow_datasets as tfds\n",
    "from flax import linen as nn\n",
    "from flax.training import train_state\n",
    "import tensorflow as tf\n",
    "\n",
    "import numpy as np\n"
   ]
  },
  {
   "cell_type": "code",
   "execution_count": null,
   "id": "35546973-ecd8-43b0-8f90-e91a28dd2a73",
   "metadata": {},
   "outputs": [],
   "source": [
    "#load data\n",
    "ds_builder = tfds.builder('cifar10') #load data\n",
    "ds_builder.download_and_prepare()\n",
    "train_ds = ds_builder.as_dataset(split='train', shuffle_files=True)\n",
    "test_ds = ds_builder.as_dataset(split='test', shuffle_files=False)\n",
    "\n",
    "#normalization function\n",
    "\n",
    "def normalize_img(data):\n",
    "    \"\"\"Normalize images: `uint8` -> `float32`.\"\"\"\n",
    "    data['image'] = tf.cast(data['image'], tf.float32) / 255.0\n",
    "    return data\n",
    "\n",
    "#normalizing data\n",
    "train_ds = train_ds.map(normalize_img, num_parallel_calls=tf.data.AUTOTUNE)\n",
    "test_ds = test_ds.map(normalize_img, num_parallel_calls=tf.data.AUTOTUNE)\n",
    "\n",
    "# Batching the data\n",
    "batch_size = 32\n",
    "train_ds = train_ds.batch(batch_size)\n",
    "test_ds = test_ds.batch(batch_size)\n",
    "\n",
    "# Converting to numpy and preparing for JAX\n",
    "def tfds_to_numpy(dataset):\n",
    "    \"\"\"Convert a TensorFlow dataset to NumPy format.\"\"\"\n",
    "    return [{'image': np.array(batch['image']), 'label': np.array(batch['label'])} for batch in dataset]\n",
    "\n",
    "# Convert TensorFlow datasets to NumPy format\n",
    "train_ds = tfds_to_numpy(train_ds)\n",
    "test_ds = tfds_to_numpy(test_ds)\n"
   ]
  },
  {
   "cell_type": "code",
   "execution_count": null,
   "id": "2b6a40b1-3234-45fb-9e1c-06c68b08cb4e",
   "metadata": {},
   "outputs": [],
   "source": [
    "#build a model\n",
    "\n",
    "class CNN(nn.Module):\n",
    "    @nn.compact\n",
    "    def __call__(self, x, is_training: bool):\n",
    "        x = nn.Conv(features=32, kernel_size=(3, 3))(x)\n",
    "        x = nn.relu(x)\n",
    "        x = nn.max_pool(x, (2, 2))\n",
    "        x = nn.Conv(features=64, kernel_size=(3, 3))(x)\n",
    "        x = nn.relu(x)\n",
    "        x = nn.max_pool(x, (2, 2))\n",
    "        x = nn.Conv(features=128, kernel_size=(3, 3))(x)\n",
    "        x = nn.relu(x)\n",
    "        x = x.reshape((x.shape[0], -1))  # Flatten\n",
    "        x = nn.Dense(features=256)(x)\n",
    "        x = nn.relu(x)\n",
    "        x = nn.Dense(features=10)(x)  # 10 classes for CIFAR-10\n",
    "        return x"
   ]
  },
  {
   "cell_type": "code",
   "execution_count": null,
   "id": "240e1734-78da-4ead-a793-04d23f3820be",
   "metadata": {},
   "outputs": [],
   "source": [
    "# Define the loss function\n",
    "def cross_entropy_loss(logits, labels):\n",
    "    one_hot_labels = jax.nn.one_hot(labels, num_classes=10)\n",
    "    return optax.softmax_cross_entropy(logits=logits, labels=one_hot_labels).mean()\n",
    "\n",
    "# Define the optimizer\n",
    "optimizer = optax.adam(learning_rate=0.001)\n"
   ]
  },
  {
   "cell_type": "code",
   "execution_count": null,
   "id": "e2eb062d-9cd4-44b9-b650-bfae04100c56",
   "metadata": {},
   "outputs": [],
   "source": [
    "# Define the train state including the model parameters and optimizer\n",
    "class TrainState(train_state.TrainState):\n",
    "    pass\n",
    "\n",
    "# Define the training step function\n",
    "@jax.jit\n",
    "def train_step(state, batch):\n",
    "    def loss_fn(params):\n",
    "        logits = state.apply_fn({'params': params}, batch['image'], is_training=True)\n",
    "        loss = cross_entropy_loss(logits, batch['label'])\n",
    "        return loss, logits\n",
    "    grad_fn = jax.value_and_grad(loss_fn, has_aux=True)\n",
    "    (loss, logits), grads = grad_fn(state.params)\n",
    "    state = state.apply_gradients(grads=grads)\n",
    "    return state, loss\n"
   ]
  },
  {
   "cell_type": "code",
   "execution_count": null,
   "id": "e549295a-49f0-4b89-8bbe-278e07e38872",
   "metadata": {},
   "outputs": [],
   "source": [
    "# Define the evaluation function\n",
    "@jax.jit\n",
    "def evaluate(state, batch):\n",
    "    logits = state.apply_fn({'params': state.params}, batch['image'], is_training=False)\n",
    "    loss = cross_entropy_loss(logits, batch['label'])\n",
    "    accuracy = jnp.mean(jnp.argmax(logits, -1) == batch['label'])\n",
    "    return loss, accuracy\n",
    "\n",
    "def evaluate_model(state, test_dataset):\n",
    "    total_loss = 0\n",
    "    total_accuracy = 0\n",
    "    num_batches = 0\n",
    "\n",
    "    for batch in test_dataset:\n",
    "        loss, accuracy = evaluate(state, batch)\n",
    "        total_loss += loss\n",
    "        total_accuracy += accuracy\n",
    "        num_batches += 1\n",
    "\n",
    "    avg_loss = total_loss / num_batches\n",
    "    avg_accuracy = total_accuracy / num_batches\n",
    "    return avg_loss, avg_accuracy"
   ]
  },
  {
   "cell_type": "code",
   "execution_count": null,
   "id": "77958ae8-5143-42f8-9679-9d6050ad31ce",
   "metadata": {},
   "outputs": [],
   "source": [
    "# Initialize model and state\n",
    "model = CNN()\n",
    "rng = jax.random.PRNGKey(0)\n",
    "params = model.init(rng, jnp.ones([1, 32, 32, 3]), is_training=True)['params']\n",
    "\n",
    "state = TrainState.create(\n",
    "    apply_fn=model.apply,\n",
    "    params=params,\n",
    "    tx=optimizer\n",
    ")"
   ]
  },
  {
   "cell_type": "code",
   "execution_count": null,
   "id": "5f6935cf-8855-4671-822b-5b62cab850fb",
   "metadata": {},
   "outputs": [],
   "source": [
    "#training loop\n",
    "num_epochs = 10  # Number of epochs to train\n",
    "for epoch in range(num_epochs):\n",
    "    for batch in train_ds:\n",
    "        state, loss = train_step(state, batch)\n",
    "    \n",
    "    print(f\"Epoch {epoch + 1}, Loss: {loss}\")"
   ]
  },
  {
   "cell_type": "code",
   "execution_count": null,
   "id": "c9df50ed-2625-4215-abd1-033c786428f4",
   "metadata": {},
   "outputs": [],
   "source": [
    "avg_loss, avg_accuracy = evaluate_model(state, test_ds)\n",
    "\n",
    "print(f\"Test Loss: {avg_loss}\")\n",
    "print(f\"Test Accuracy: {avg_accuracy}\")\n",
    "\n"
   ]
  },
  {
   "cell_type": "code",
   "execution_count": null,
   "id": "516c8b5f-c8d5-4e15-a359-a381d85bc399",
   "metadata": {},
   "outputs": [],
   "source": []
  }
 ],
 "metadata": {
  "kernelspec": {
   "display_name": "Python 3 (ipykernel)",
   "language": "python",
   "name": "python3"
  },
  "language_info": {
   "codemirror_mode": {
    "name": "ipython",
    "version": 3
   },
   "file_extension": ".py",
   "mimetype": "text/x-python",
   "name": "python",
   "nbconvert_exporter": "python",
   "pygments_lexer": "ipython3",
   "version": "3.12.0"
  }
 },
 "nbformat": 4,
 "nbformat_minor": 5
}
