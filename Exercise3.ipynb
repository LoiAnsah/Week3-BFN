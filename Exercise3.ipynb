{
 "cells": [
  {
   "cell_type": "code",
   "execution_count": 12,
   "id": "08b5e540-2e42-4b18-b689-4eb11dbb4903",
   "metadata": {},
   "outputs": [],
   "source": [
    "import torch\n",
    "import torch.nn as nn\n",
    "import torch.optim as optim\n",
    "import numpy as np\n",
    "import librosa\n",
    "from datasets import load_dataset\n",
    "from sklearn.preprocessing import LabelEncoder\n",
    "\n",
    "import tensorflow as tf\n",
    "import os\n",
    "import time\n"
   ]
  },
  {
   "cell_type": "code",
   "execution_count": 13,
   "id": "37900725-23e5-4476-a7e9-51b7263ae2ff",
   "metadata": {},
   "outputs": [
    {
     "name": "stdout",
     "output_type": "stream",
     "text": [
      "['audio', 'transcription']\n",
      "Sample 1: MFCCs shape: (13, 401)\n",
      "Rántí jẹ ohun tí ẹ gbé kalẹ̀.\n",
      "Sample 2: MFCCs shape: (13, 481)\n",
      " Ìréde òru ti àwọn ọ̀dọ́mọgé ìsíyìín rawọ́ lé mà ti wá peléke.\n",
      "Sample 3: MFCCs shape: (13, 697)\n",
      " Nínú ẹ̀wọ̀n ọdún méjìlá tí wọ́n dá fún Tájù, ọdún mẹ́wàá ló lò níbẹ̀.\n",
      "Sample 4: MFCCs shape: (13, 265)\n",
      "Gèlè náà gbé ẹwà rẹ̀ jáde.\n",
      "Sample 5: MFCCs shape: (13, 305)\n",
      "Àgbò ni Mojí ń mú kiri.\n",
      "Sample 6: MFCCs shape: (13, 265)\n",
      "Ọ̀gá akọrin wa féraǹ mi gidi.\n",
      "Sample 7: MFCCs shape: (13, 393)\n",
      "Ìjọba yóò fi kún owó àwọn òṣìṣẹ́.\n",
      "Sample 8: MFCCs shape: (13, 273)\n",
      "Mo fẹ́ mu àgbo jẹ̀díjẹ̀dí.\n",
      "Sample 9: MFCCs shape: (13, 569)\n",
      " Mo rántí ìgbà èwe mi àti àwọn oun tí mo ṣe.\n",
      "Sample 10: MFCCs shape: (13, 265)\n",
      "Ilé ìgbọ̀nsẹ̀ náà rẹwà.\n"
     ]
    }
   ],
   "source": [
    "#load dataset\n",
    "dataset = load_dataset(\"babs/openslr-yoruba\")\n",
    "\n",
    "#split dataset\n",
    "\n",
    "data_split = dataset['train'].train_test_split(test_size=0.2)\n",
    "\n",
    "#access the train and test sets\n",
    "train_ds = data_split['train']\n",
    "test_ds = data_split['test']\n",
    "\n",
    "# Print dataset column names\n",
    "print(train_ds.column_names)\n",
    "\n",
    "\n",
    "for i in range(0,10):\n",
    "    #process audio sample\n",
    "    audio_sample = train_ds[i]\n",
    "\n",
    "    #extract audio data and sampling rate\n",
    "    audio_data = audio_sample['audio']['array']\n",
    "    sampling_rate = audio_sample['audio']['sampling_rate']\n",
    "\n",
    "    #ensure data is numpy array\n",
    "    audio_data = np.array(audio_data)\n",
    "\n",
    "    #extract mfcc features\n",
    "    mfccs = librosa.feature.mfcc(y=audio_data, sr=sampling_rate, n_mfcc=13)\n",
    "\n",
    "    #display the mfcc features\n",
    "    print(f\"Sample {i+1}: MFCCs shape: {mfccs.shape}\")\n",
    "    print(train_ds['transcription'][i])"
   ]
  },
  {
   "cell_type": "code",
   "execution_count": 21,
   "id": "9e680c58-2781-450a-bbe4-37f873a8f880",
   "metadata": {},
   "outputs": [
    {
     "name": "stdout",
     "output_type": "stream",
     "text": [
      "19 unique characters\n",
      "<StringLookup name=string_lookup_5, built=False>\n",
      "28 unique characters\n",
      "<StringLookup name=string_lookup_6, built=False>\n",
      "27 unique characters\n",
      "<StringLookup name=string_lookup_7, built=False>\n",
      "18 unique characters\n",
      "<StringLookup name=string_lookup_8, built=False>\n",
      "17 unique characters\n",
      "<StringLookup name=string_lookup_9, built=False>\n"
     ]
    }
   ],
   "source": [
    "# function to vectorize text\n",
    "\n",
    "for i in range(0,5):\n",
    "\n",
    "    audio_sample = train_ds['transcription'][i]\n",
    "    vocab = sorted(set(audio_sample)) #creates a set of unique characters from the audio_sample, removing any duplicates, and then sorts them\n",
    "    print(f'{len(vocab)} unique characters')\n",
    "\n",
    "    chars = tf.strings.unicode_split(vocab, input_encoding='UTF-8')\n",
    "    ids_from_chars = tf.keras.layers.StringLookup(vocabulary=list(vocab), mask_token=None)\n",
    "    ids = ids_from_chars\n",
    "    print(ids)"
   ]
  },
  {
   "cell_type": "code",
   "execution_count": null,
   "id": "7807157c-58c0-45cb-b324-c4da91a2017e",
   "metadata": {},
   "outputs": [],
   "source": []
  },
  {
   "cell_type": "code",
   "execution_count": null,
   "id": "d17a01e8-fcb6-44db-9f6b-a836ed17daf5",
   "metadata": {},
   "outputs": [],
   "source": []
  }
 ],
 "metadata": {
  "kernelspec": {
   "display_name": "Python 3 (ipykernel)",
   "language": "python",
   "name": "python3"
  },
  "language_info": {
   "codemirror_mode": {
    "name": "ipython",
    "version": 3
   },
   "file_extension": ".py",
   "mimetype": "text/x-python",
   "name": "python",
   "nbconvert_exporter": "python",
   "pygments_lexer": "ipython3",
   "version": "3.12.0"
  }
 },
 "nbformat": 4,
 "nbformat_minor": 5
}
